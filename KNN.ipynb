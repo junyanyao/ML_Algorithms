{
 "cells": [
  {
   "cell_type": "code",
   "execution_count": 51,
   "metadata": {},
   "outputs": [],
   "source": [
    "####KNN\n",
    "import numpy as np\n",
    "class KNN(object):\n",
    "    \n",
    "    def createDataSet(self):\n",
    "        group = np.array([[1.0,1.1], [1.0,1.0], [0,0], [0, 0.1]]) #np array only takes one list\n",
    "        labels =['A', 'A', 'B','B']\n",
    "        return group, labels\n",
    "\n",
    "\n",
    "KNN =KNN()\n",
    "group, labels=KNN.createDataSet()"
   ]
  },
  {
   "cell_type": "code",
   "execution_count": 52,
   "metadata": {},
   "outputs": [
    {
     "data": {
      "text/plain": [
       "array([[1. , 1.1],\n",
       "       [1. , 1. ],\n",
       "       [0. , 0. ],\n",
       "       [0. , 0.1]])"
      ]
     },
     "execution_count": 52,
     "metadata": {},
     "output_type": "execute_result"
    }
   ],
   "source": [
    "group"
   ]
  },
  {
   "cell_type": "markdown",
   "metadata": {},
   "source": [
    "## Plot the four data points of our very simple KNN example"
   ]
  },
  {
   "cell_type": "code",
   "execution_count": 53,
   "metadata": {},
   "outputs": [
    {
     "data": {
      "image/png": "[encoded data removed]",
      "text/plain": [
       "<Figure size 432x288 with 1 Axes>"
      ]
     },
     "metadata": {},
     "output_type": "display_data"
    }
   ],
   "source": [
    "import matplotlib.pyplot as plt\n",
    "plt.scatter([i[0] for i in group],[i[1] for i in group])\n",
    "for i, xy in enumerate(labels):\n",
    "    plt.annotate(xy, ([j[0] for j in group][i], [j[1] for j in group][i]))"
   ]
  },
  {
   "cell_type": "markdown",
   "metadata": {},
   "source": [
    "## Pseedocode of KNN\n",
    "### for every point in the dataset:\n",
    "### calculate the distance between inX and and the current point\n",
    "### sort the distances in increasing order\n",
    "### take k items with lowest distances to inX\n",
    "### find the majority class among these items\n",
    "### return the majority class as our prediction for the class of inX"
   ]
  },
  {
   "cell_type": "code",
   "execution_count": 54,
   "metadata": {},
   "outputs": [],
   "source": [
    "import operator\n",
    "class KNN():\n",
    "    def classify0(self, inX, dataSet, labels, k):\n",
    "        ## calculate the distances\n",
    "        dataSetSize =dataSet.shape[0]\n",
    "        diffMat= np.tile(inX, (dataSetSize,1)) - dataSet\n",
    "        sqDiffMat =diffMat **2\n",
    "        sqDistances =sqDiffMat.sum(axis=1)\n",
    "        distances = sqDistances ** 0.5\n",
    "        sortedDistIndicies = distances.argsort()\n",
    "        classCount= {}\n",
    "        # voting the lowest k distance\n",
    "        for i in range(k):\n",
    "            voteIlabel = labels[sortedDistIndicies[i]]\n",
    "            classCount[voteIlabel] =classCount.get(voteIlabel, 0) +1\n",
    "        #sort the dictionary\n",
    "        sortedClassCount =sorted(classCount.items(), key = operator.itemgetter(1), reverse =True) #python 3 change iteritems to items\n",
    "        return sortedClassCount[0][0]\n",
    "    "
   ]
  },
  {
   "cell_type": "code",
   "execution_count": 55,
   "metadata": {},
   "outputs": [
    {
     "data": {
      "text/plain": [
       "'B'"
      ]
     },
     "execution_count": 55,
     "metadata": {},
     "output_type": "execute_result"
    }
   ],
   "source": [
    "KNN= KNN()\n",
    "KNN.classify0([0,0], group, labels, 3)"
   ]
  },
  {
   "cell_type": "code",
   "execution_count": 56,
   "metadata": {},
   "outputs": [
    {
     "data": {
      "text/plain": [
       "'A'"
      ]
     },
     "execution_count": 56,
     "metadata": {},
     "output_type": "execute_result"
    }
   ],
   "source": [
    "# another point\n",
    "KNN.classify0([1.2,1.2], group, labels, 3)"
   ]
  },
  {
   "cell_type": "markdown",
   "metadata": {},
   "source": [
    "## Another example: list 2.2\n"
   ]
  },
  {
   "cell_type": "code",
   "execution_count": 77,
   "metadata": {},
   "outputs": [],
   "source": [
    "class KNN():\n",
    "    def file_matrix(self,filename):\n",
    "        fr= open(filename)\n",
    "        #give number of lines in file\n",
    "        numberOfLines= len(fr.readlines())\n",
    "        #create numpy matrix to return\n",
    "        returnMat = np.zeros((numberOfLines, 3))\n",
    "        classLabelVector =[]\n",
    "        fr= open(filename)\n",
    "        index =0\n",
    "        #parse line to a list\n",
    "        for line in fr.readlines():\n",
    "            line = line.strip()\n",
    "            listFromLine = line.split('\\t')\n",
    "            returnMat[index, :] = listFromLine[0:3]\n",
    "            classLabelVector.append(listFromLine[-1])\n",
    "            index +=1\n",
    "        return returnMat, classLabelVector"
   ]
  },
  {
   "cell_type": "code",
   "execution_count": 78,
   "metadata": {},
   "outputs": [],
   "source": [
    "KNN= KNN()\n",
    "datingDataMat, datingLabels= KNN.file_matrix('Datasets/datingTestSet.txt')"
   ]
  },
  {
   "cell_type": "code",
   "execution_count": 74,
   "metadata": {},
   "outputs": [
    {
     "data": {
      "text/plain": [
       "array([[4.0920000e+04, 8.3269760e+00, 9.5395200e-01],\n",
       "       [1.4488000e+04, 7.1534690e+00, 1.6739040e+00],\n",
       "       [2.6052000e+04, 1.4418710e+00, 8.0512400e-01],\n",
       "       ...,\n",
       "       [2.6575000e+04, 1.0650102e+01, 8.6662700e-01],\n",
       "       [4.8111000e+04, 9.1345280e+00, 7.2804500e-01],\n",
       "       [4.3757000e+04, 7.8826010e+00, 1.3324460e+00]])"
      ]
     },
     "execution_count": 74,
     "metadata": {},
     "output_type": "execute_result"
    }
   ],
   "source": [
    "datingDataMat"
   ]
  },
  {
   "cell_type": "code",
   "execution_count": 75,
   "metadata": {},
   "outputs": [],
   "source": [
    "datingLabels[0:10]\n",
    "lookup=  {'largeDoses':'red', 'smallDoses':'green', 'didntLike': 'blue'}"
   ]
  },
  {
   "cell_type": "markdown",
   "metadata": {},
   "source": [
    "## Figure 2.4 Dating data with markers changed by class label"
   ]
  },
  {
   "cell_type": "code",
   "execution_count": 61,
   "metadata": {},
   "outputs": [
    {
     "data": {
      "image/png": "[encoded data removed]",
      "text/plain": [
       "<Figure size 432x288 with 1 Axes>"
      ]
     },
     "metadata": {},
     "output_type": "display_data"
    }
   ],
   "source": [
    "# Analyze with graph\n",
    "for xy, color in zip(datingDataMat, datingLabels):\n",
    "    plt.scatter(xy[1], xy[2],c = lookup[color], alpha =0.5)\n",
    "\n",
    "plt.show()"
   ]
  },
  {
   "cell_type": "markdown",
   "metadata": {},
   "source": [
    "\n",
    "## Normalize Data"
   ]
  },
  {
   "cell_type": "code",
   "execution_count": 81,
   "metadata": {},
   "outputs": [],
   "source": [
    "class KNN():\n",
    "    def autoNorm(dataSet):\n",
    "        minVals= dataSet.min(0)\n",
    "        maxVals = dataSet.max(0)\n",
    "        ranges = maxVals - minVals\n",
    "        normDataSet = np.zeros(dataSet.shape[0])\n",
    "        m = dataSet.shape[0]\n",
    "        normDataSet = dataSet - np.tile(minVals, (m,1))\n",
    "        normDataSet = normDataSet /np.tile(ranges, (m,1))\n",
    "        return normDataSet, ranges, minVals\n",
    "    "
   ]
  },
  {
   "cell_type": "code",
   "execution_count": 63,
   "metadata": {},
   "outputs": [],
   "source": [
    "normMat, ranges, minVals = KNN.autoNorm(datingDataMat)"
   ]
  },
  {
   "cell_type": "code",
   "execution_count": 64,
   "metadata": {},
   "outputs": [
    {
     "data": {
      "text/plain": [
       "array([[0.44832535, 0.39805139, 0.56233353],\n",
       "       [0.15873259, 0.34195467, 0.98724416],\n",
       "       [0.28542943, 0.06892523, 0.47449629],\n",
       "       ...,\n",
       "       [0.29115949, 0.50910294, 0.51079493],\n",
       "       [0.52711097, 0.43665451, 0.4290048 ],\n",
       "       [0.47940793, 0.3768091 , 0.78571804]])"
      ]
     },
     "execution_count": 64,
     "metadata": {},
     "output_type": "execute_result"
    }
   ],
   "source": [
    "normMat"
   ]
  },
  {
   "cell_type": "code",
   "execution_count": 65,
   "metadata": {},
   "outputs": [
    {
     "data": {
      "text/plain": [
       "array([9.1273000e+04, 2.0919349e+01, 1.6943610e+00])"
      ]
     },
     "execution_count": 65,
     "metadata": {},
     "output_type": "execute_result"
    }
   ],
   "source": [
    "ranges"
   ]
  },
  {
   "cell_type": "code",
   "execution_count": 66,
   "metadata": {},
   "outputs": [
    {
     "data": {
      "text/plain": [
       "array([0.      , 0.      , 0.001156])"
      ]
     },
     "execution_count": 66,
     "metadata": {},
     "output_type": "execute_result"
    }
   ],
   "source": [
    "minVals"
   ]
  },
  {
   "cell_type": "markdown",
   "metadata": {},
   "source": [
    "## List 2.4  classifer testing code for the dating site"
   ]
  },
  {
   "cell_type": "code",
   "execution_count": 97,
   "metadata": {},
   "outputs": [
    {
     "name": "stdout",
     "output_type": "stream",
     "text": [
      "the classifier came back with largeDoses, the real answer is : largeDoses\n",
      "the classifier came back with smallDoses, the real answer is : smallDoses\n",
      "the classifier came back with didntLike, the real answer is : didntLike\n",
      "the classifier came back with didntLike, the real answer is : didntLike\n",
      "the classifier came back with didntLike, the real answer is : didntLike\n",
      "the classifier came back with didntLike, the real answer is : didntLike\n",
      "the classifier came back with largeDoses, the real answer is : largeDoses\n",
      "the classifier came back with largeDoses, the real answer is : largeDoses\n",
      "the classifier came back with didntLike, the real answer is : didntLike\n",
      "the classifier came back with largeDoses, the real answer is : largeDoses\n",
      "the classifier came back with didntLike, the real answer is : didntLike\n",
      "the classifier came back with didntLike, the real answer is : didntLike\n",
      "the classifier came back with smallDoses, the real answer is : smallDoses\n",
      "the classifier came back with didntLike, the real answer is : didntLike\n",
      "the classifier came back with didntLike, the real answer is : didntLike\n",
      "the classifier came back with didntLike, the real answer is : didntLike\n",
      "the classifier came back with didntLike, the real answer is : didntLike\n",
      "the classifier came back with didntLike, the real answer is : didntLike\n",
      "the classifier came back with smallDoses, the real answer is : smallDoses\n",
      "the classifier came back with largeDoses, the real answer is : largeDoses\n",
      "the classifier came back with smallDoses, the real answer is : smallDoses\n",
      "the classifier came back with didntLike, the real answer is : didntLike\n",
      "the classifier came back with largeDoses, the real answer is : smallDoses\n",
      "the classifier came back with largeDoses, the real answer is : largeDoses\n",
      "the classifier came back with smallDoses, the real answer is : smallDoses\n",
      "the classifier came back with largeDoses, the real answer is : largeDoses\n",
      "the classifier came back with smallDoses, the real answer is : smallDoses\n",
      "the classifier came back with largeDoses, the real answer is : largeDoses\n",
      "the classifier came back with smallDoses, the real answer is : smallDoses\n",
      "the classifier came back with didntLike, the real answer is : didntLike\n",
      "the classifier came back with largeDoses, the real answer is : largeDoses\n",
      "the classifier came back with didntLike, the real answer is : didntLike\n",
      "the classifier came back with largeDoses, the real answer is : largeDoses\n",
      "the classifier came back with didntLike, the real answer is : didntLike\n",
      "the classifier came back with smallDoses, the real answer is : smallDoses\n",
      "the classifier came back with didntLike, the real answer is : didntLike\n",
      "the classifier came back with didntLike, the real answer is : didntLike\n",
      "the classifier came back with smallDoses, the real answer is : smallDoses\n",
      "the classifier came back with largeDoses, the real answer is : largeDoses\n",
      "the classifier came back with largeDoses, the real answer is : largeDoses\n",
      "the classifier came back with didntLike, the real answer is : didntLike\n",
      "the classifier came back with smallDoses, the real answer is : smallDoses\n",
      "the classifier came back with largeDoses, the real answer is : largeDoses\n",
      "the classifier came back with largeDoses, the real answer is : largeDoses\n",
      "the classifier came back with largeDoses, the real answer is : largeDoses\n",
      "the classifier came back with didntLike, the real answer is : didntLike\n",
      "the classifier came back with didntLike, the real answer is : didntLike\n",
      "the classifier came back with didntLike, the real answer is : didntLike\n",
      "the classifier came back with didntLike, the real answer is : didntLike\n",
      "the classifier came back with smallDoses, the real answer is : smallDoses\n",
      "the classifier came back with smallDoses, the real answer is : smallDoses\n",
      "the classifier came back with didntLike, the real answer is : didntLike\n",
      "the classifier came back with largeDoses, the real answer is : largeDoses\n",
      "the classifier came back with smallDoses, the real answer is : smallDoses\n",
      "the classifier came back with smallDoses, the real answer is : smallDoses\n",
      "the classifier came back with smallDoses, the real answer is : smallDoses\n",
      "the classifier came back with smallDoses, the real answer is : smallDoses\n",
      "the classifier came back with largeDoses, the real answer is : largeDoses\n",
      "the classifier came back with didntLike, the real answer is : didntLike\n",
      "the classifier came back with smallDoses, the real answer is : smallDoses\n",
      "the classifier came back with didntLike, the real answer is : didntLike\n",
      "the classifier came back with smallDoses, the real answer is : smallDoses\n",
      "the classifier came back with smallDoses, the real answer is : smallDoses\n",
      "the classifier came back with smallDoses, the real answer is : smallDoses\n",
      "the classifier came back with smallDoses, the real answer is : smallDoses\n",
      "the classifier came back with smallDoses, the real answer is : smallDoses\n",
      "the classifier came back with largeDoses, the real answer is : largeDoses\n",
      "the classifier came back with smallDoses, the real answer is : smallDoses\n",
      "the classifier came back with largeDoses, the real answer is : largeDoses\n",
      "the classifier came back with didntLike, the real answer is : didntLike\n",
      "the classifier came back with smallDoses, the real answer is : smallDoses\n",
      "the classifier came back with largeDoses, the real answer is : largeDoses\n",
      "the classifier came back with smallDoses, the real answer is : smallDoses\n",
      "the classifier came back with smallDoses, the real answer is : smallDoses\n",
      "the classifier came back with largeDoses, the real answer is : didntLike\n",
      "the classifier came back with largeDoses, the real answer is : largeDoses\n",
      "the classifier came back with didntLike, the real answer is : didntLike\n",
      "the classifier came back with didntLike, the real answer is : didntLike\n",
      "the classifier came back with largeDoses, the real answer is : largeDoses\n",
      "the classifier came back with largeDoses, the real answer is : largeDoses\n",
      "the classifier came back with didntLike, the real answer is : didntLike\n",
      "the classifier came back with smallDoses, the real answer is : smallDoses\n",
      "the classifier came back with largeDoses, the real answer is : largeDoses\n",
      "the classifier came back with largeDoses, the real answer is : didntLike\n",
      "the classifier came back with largeDoses, the real answer is : largeDoses\n",
      "the classifier came back with didntLike, the real answer is : didntLike\n",
      "the classifier came back with smallDoses, the real answer is : smallDoses\n",
      "the classifier came back with smallDoses, the real answer is : smallDoses\n",
      "the classifier came back with didntLike, the real answer is : didntLike\n",
      "the classifier came back with didntLike, the real answer is : didntLike\n",
      "the classifier came back with largeDoses, the real answer is : largeDoses\n",
      "the classifier came back with smallDoses, the real answer is : largeDoses\n",
      "the classifier came back with didntLike, the real answer is : didntLike\n",
      "the classifier came back with smallDoses, the real answer is : smallDoses\n",
      "the classifier came back with didntLike, the real answer is : didntLike\n",
      "the classifier came back with largeDoses, the real answer is : largeDoses\n",
      "the classifier came back with largeDoses, the real answer is : largeDoses\n",
      "the classifier came back with smallDoses, the real answer is : smallDoses\n",
      "the classifier came back with didntLike, the real answer is : didntLike\n",
      "the classifier came back with largeDoses, the real answer is : didntLike\n",
      "the total error rate is: 0.050000\n"
     ]
    }
   ],
   "source": [
    "\n",
    "class KNN():\n",
    "    def classify0(inX, dataSet, labels, k):\n",
    "        ## calculate the distances\n",
    "        dataSetSize =dataSet.shape[0]\n",
    "        diffMat= np.tile(inX, (dataSetSize,1)) - dataSet\n",
    "        sqDiffMat =diffMat **2\n",
    "        sqDistances =sqDiffMat.sum(axis=1)\n",
    "        distances = sqDistances ** 0.5\n",
    "        sortedDistIndicies = distances.argsort()\n",
    "        classCount= {}\n",
    "        # voting the lowest k distance\n",
    "        for i in range(k):\n",
    "            voteIlabel = labels[sortedDistIndicies[i]]\n",
    "            classCount[voteIlabel] =classCount.get(voteIlabel, 0) +1\n",
    "        #sort the dictionary\n",
    "        sortedClassCount =sorted(classCount.items(), key = operator.itemgetter(1), reverse =True) #python 3 change iteritems to items\n",
    "        return sortedClassCount[0][0]\n",
    "    \n",
    "    def file_matrix(filename):\n",
    "        fr= open(filename)\n",
    "        #give number of lines in file\n",
    "        numberOfLines= len(fr.readlines())\n",
    "        #create numpy matrix to return\n",
    "        returnMat = np.zeros((numberOfLines, 3))\n",
    "        classLabelVector =[]\n",
    "        fr= open(filename)\n",
    "        index =0\n",
    "        #parse line to a list\n",
    "        for line in fr.readlines():\n",
    "            line = line.strip()\n",
    "            listFromLine = line.split('\\t')\n",
    "            returnMat[index, :] = listFromLine[0:3]\n",
    "            classLabelVector.append(listFromLine[-1])\n",
    "            index +=1\n",
    "        return returnMat, classLabelVector\n",
    "    def autoNorm(dataSet):\n",
    "        minVals= dataSet.min(0)\n",
    "        maxVals = dataSet.max(0)\n",
    "        ranges = maxVals - minVals\n",
    "        normDataSet = np.zeros(dataSet.shape[0])\n",
    "        m = dataSet.shape[0]\n",
    "        normDataSet = dataSet - np.tile(minVals, (m,1))\n",
    "        normDataSet = normDataSet /np.tile(ranges, (m,1))\n",
    "        return normDataSet, ranges, minVals\n",
    "    \n",
    "    hoRatio = 0.1\n",
    "    datingDataMat, datingLabels = file_matrix('Datasets/datingTestSet.txt')\n",
    "    normMat, ranges, minVals = autoNorm(datingDataMat)\n",
    "    m = normMat.shape[0]\n",
    "    numTestVecs= int(m *hoRatio)\n",
    "    errorCount =0\n",
    "    for i in range(numTestVecs):\n",
    "        classifierResult = classify0(normMat[i,:], normMat[numTestVecs:m, :], datingLabels[numTestVecs:m], 3)\n",
    "        print('the classifier came back with %s, the real answer is : %s' % (classifierResult, datingLabels[i]))\n",
    "        if (classifierResult != datingLabels[i]) : \n",
    "            errorCount +=1\n",
    "    \n",
    "    print('the total error rate is: %f' % (errorCount /float(numTestVecs)))"
   ]
  },
  {
   "cell_type": "code",
   "execution_count": null,
   "metadata": {},
   "outputs": [],
   "source": []
  },
  {
   "cell_type": "code",
   "execution_count": null,
   "metadata": {},
   "outputs": [],
   "source": []
  },
  {
   "cell_type": "code",
   "execution_count": null,
   "metadata": {},
   "outputs": [],
   "source": []
  },
  {
   "cell_type": "code",
   "execution_count": null,
   "metadata": {},
   "outputs": [],
   "source": []
  },
  {
   "cell_type": "code",
   "execution_count": null,
   "metadata": {},
   "outputs": [],
   "source": []
  },
  {
   "cell_type": "code",
   "execution_count": null,
   "metadata": {},
   "outputs": [],
   "source": []
  },
  {
   "cell_type": "code",
   "execution_count": null,
   "metadata": {},
   "outputs": [],
   "source": []
  },
  {
   "cell_type": "code",
   "execution_count": null,
   "metadata": {},
   "outputs": [],
   "source": []
  },
  {
   "cell_type": "code",
   "execution_count": null,
   "metadata": {},
   "outputs": [],
   "source": []
  },
  {
   "cell_type": "code",
   "execution_count": null,
   "metadata": {},
   "outputs": [],
   "source": []
  },
  {
   "cell_type": "code",
   "execution_count": null,
   "metadata": {},
   "outputs": [],
   "source": []
  },
  {
   "cell_type": "code",
   "execution_count": null,
   "metadata": {},
   "outputs": [],
   "source": []
  }
 ],
 "metadata": {
  "kernelspec": {
   "display_name": "Python 3",
   "language": "python",
   "name": "python3"
  },
  "language_info": {
   "codemirror_mode": {
    "name": "ipython",
    "version": 3
   },
   "file_extension": ".py",
   "mimetype": "text/x-python",
   "name": "python",
   "nbconvert_exporter": "python",
   "pygments_lexer": "ipython3",
   "version": "3.6.5"
  }
 },
 "nbformat": 4,
 "nbformat_minor": 2
}
