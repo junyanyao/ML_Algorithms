{
 "cells": [
  {
   "cell_type": "code",
   "execution_count": 3,
   "metadata": {},
   "outputs": [],
   "source": [
    "####KNN\n",
    "import numpy as np\n",
    "class KNN(object):\n",
    "    \n",
    "    def createDataSet(self):\n",
    "        group = np.array([[1.0,1.1], [1.0,1.0], [0,0], [0, 0.1]]) #np array only takes one list\n",
    "        labels =['A', 'A', 'B','B']\n",
    "        return group, labels\n",
    "\n",
    "\n",
    "KNN =KNN()\n",
    "group, labels=KNN.createDataSet()"
   ]
  },
  {
   "cell_type": "code",
   "execution_count": 4,
   "metadata": {},
   "outputs": [
    {
     "data": {
      "text/plain": [
       "array([[1. , 1.1],\n",
       "       [1. , 1. ],\n",
       "       [0. , 0. ],\n",
       "       [0. , 0.1]])"
      ]
     },
     "execution_count": 4,
     "metadata": {},
     "output_type": "execute_result"
    }
   ],
   "source": [
    "group"
   ]
  },
  {
   "cell_type": "code",
   "execution_count": null,
   "metadata": {},
   "outputs": [],
   "source": []
  },
  {
   "cell_type": "markdown",
   "metadata": {},
   "source": [
    "## Plot the four data points of our very simple KNN example"
   ]
  },
  {
   "cell_type": "code",
   "execution_count": 5,
   "metadata": {},
   "outputs": [],
   "source": [
    "import matplotlib.pyplot as plt\n",
    "plt.scatter([i[0] for i in group],[i[1] for i in group])\n",
    "for i, xy in enumerate(labels):\n",
    "    plt.annotate(xy, ([j[0] for j in group][i], [j[1] for j in group][i]))"
   ]
  },
  {
   "cell_type": "markdown",
   "metadata": {},
   "source": [
    "## Pseedocode of KNN\n",
    "### for every point in the dataset:\n",
    "### calculate the distance between inX and and the current point\n",
    "### sort the distances in increasing order\n",
    "### take k items with lowest distances to inX\n",
    "### find the majority class among these items\n",
    "### return the majority class as our prediction for the class of inX"
   ]
  },
  {
   "cell_type": "code",
   "execution_count": 6,
   "metadata": {},
   "outputs": [],
   "source": [
    "import operator\n",
    "class KNN():\n",
    "    def classify0(self, inX, dataSet, labels, k):\n",
    "        dataSetSize =dataSet.shape[0]\n",
    "        diffMat= np.tile(inX, (dataSetSize,1)) - dataSet\n",
    "        sqDiffMat =diffMat **2\n",
    "        sqDistances =sqDiffMat.sum(axis=1)\n",
    "        distances = sqDistances ** 0.5\n",
    "        sortedDistIndicies = distances.argsort()\n",
    "        classCount= {}\n",
    "        for i in range(k):\n",
    "            voteIlabel = labels[sortedDistIndicies[i]]\n",
    "            classCount[voteIlabel] =classCount.get(voteIlabel, 0) +1\n",
    "        sortedClassCount =sorted(classCount.items(), key = operator.itemgetter(1), reverse =True) #python 3 change iteritems to items\n",
    "        return sortedClassCount[0][0]\n",
    "    "
   ]
  },
  {
   "cell_type": "code",
   "execution_count": 7,
   "metadata": {},
   "outputs": [
    {
     "data": {
      "text/plain": [
       "'B'"
      ]
     },
     "execution_count": 7,
     "metadata": {},
     "output_type": "execute_result"
    }
   ],
   "source": [
    "KNN= KNN()\n",
    "KNN.classify0([0,0], group, labels, 3)"
   ]
  },
  {
   "cell_type": "code",
   "execution_count": 8,
   "metadata": {},
   "outputs": [
    {
     "data": {
      "text/plain": [
       "'A'"
      ]
     },
     "execution_count": 8,
     "metadata": {},
     "output_type": "execute_result"
    }
   ],
   "source": [
    "# another point\n",
    "KNN.classify0([1.2,1.2], group, labels, 3)"
   ]
  },
  {
   "cell_type": "markdown",
   "metadata": {},
   "source": [
    "## Another example: list 2.2\n"
   ]
  },
  {
   "cell_type": "code",
   "execution_count": null,
   "metadata": {},
   "outputs": [],
   "source": [
    "def file2matrix(filename):\n",
    "    fr = open(filename)\n",
    "    numberOfLines = len(fr.readlines())\n",
    "    returnMat = np.zeros((numberOfLines,3))\n",
    "    classLabelVector = []\n",
    "    fr= "
   ]
  }
 ],
 "metadata": {
  "kernelspec": {
   "display_name": "Python 3",
   "language": "python",
   "name": "python3"
  },
  "language_info": {
   "codemirror_mode": {
    "name": "ipython",
    "version": 3
   },
   "file_extension": ".py",
   "mimetype": "text/x-python",
   "name": "python",
   "nbconvert_exporter": "python",
   "pygments_lexer": "ipython3",
   "version": "3.6.5"
  }
 },
 "nbformat": 4,
 "nbformat_minor": 2
}
